{
 "cells": [
  {
   "cell_type": "code",
   "execution_count": null,
   "metadata": {},
   "outputs": [],
   "source": [
    "# To play a game with computer \n",
    "import random\n",
    "n = random.randrange(1,10)\n",
    "guess = int(input(\"Enter any number between 1 to 10: \"))\n",
    "while n!= guess:\n",
    "    if guess < n:\n",
    "        print(\"The number you picked is lower than the target number!\")\n",
    "        guess = int(input(\"Do another guess: \"))\n",
    "    elif guess > n:\n",
    "        print(\"The number you picked is lower than the target number!\")\n",
    "        guess = int(input(\"Do another guess: \"))\n",
    "    else:\n",
    "      break\n",
    "print(\"Hooray! You guessed it right!!\")"
   ]
  },
  {
   "cell_type": "code",
   "execution_count": null,
   "metadata": {},
   "outputs": [],
   "source": [
    "# To calculate the mean without using the function\n",
    "\n",
    "list = [12, 16, 20, 20, 12, 30, 25, 23, 24, 20]\n",
    "mean = sum(list)/len(list)\n",
    "print(mean)"
   ]
  },
  {
   "cell_type": "code",
   "execution_count": null,
   "metadata": {},
   "outputs": [],
   "source": [
    "#Ask Ali\n",
    "Count = int(input(\"How many numbers you want the average for?\"))\n",
    "numbers = int(input(\"Enter any number : \"))\n",
    "while count != len([numbers])\n",
    "    numbers = int(input(\"Enter any number : \"))\n",
    "    else:\n",
    "        break\n",
    "        print(\"You have reached the maximum of numbers\")\n",
    "numbers= []\n",
    "mean = sum([numbers])/count\n",
    "        print(\"The average of the entered numbers is :\"+str('mean'))"
   ]
  },
  {
   "cell_type": "code",
   "execution_count": null,
   "metadata": {},
   "outputs": [],
   "source": [
    "import getpass\n",
    "database = {\"x.b@g.com\": \"123456\", \"y.d@g.com\": \"654321\"}\n",
    "username = input(\"Enter Your Username : \")\n",
    "password = getpass.getpass(\"Enter Your Password : \")\n",
    "for i in database.keys():\n",
    "    if username == i:\n",
    "        while password != database.get(i):\n",
    "            password = getpass.getpass(\"Enter Your Password Again : \")\n",
    "        break\n",
    "print(\"Your password is Verified\")"
   ]
  },
  {
   "cell_type": "code",
   "execution_count": null,
   "metadata": {},
   "outputs": [],
   "source": [
    "# To play Rock,paper, scissors with computer\n",
    "import random\n",
    "\n",
    "player1 = input(\"Select Rock, Paper, or Scissor :\").lower()\n",
    "player2 = random.choice([\"Rock\", \"Paper\", \"Scissor\"]).lower()\n",
    "print(\"Player 2 selected: \", player2)\n",
    "\n",
    "if player1 == \"rock\" and player2 == \"paper\":\n",
    "    print(\"Player 2 Won\")\n",
    "elif player1 == \"paper\" and player2 == \"scissor\":\n",
    "    print(\"Player 2 Won\")\n",
    "elif player1 == \"scissor\" and player2 == \"rock\":\n",
    "    print(\"Player 2 Won\")\n",
    "elif player1 == player2:\n",
    "    print(\"Tie\")\n",
    "else:\n",
    "    print(\"Player 1 Won\")"
   ]
  },
  {
   "cell_type": "code",
   "execution_count": null,
   "metadata": {},
   "outputs": [],
   "source": []
  }
 ],
 "metadata": {
  "kernelspec": {
   "display_name": "Python 3",
   "language": "python",
   "name": "python3"
  },
  "language_info": {
   "codemirror_mode": {
    "name": "ipython",
    "version": 3
   },
   "file_extension": ".py",
   "mimetype": "text/x-python",
   "name": "python",
   "nbconvert_exporter": "python",
   "pygments_lexer": "ipython3",
   "version": "3.8.5"
  }
 },
 "nbformat": 4,
 "nbformat_minor": 4
}
