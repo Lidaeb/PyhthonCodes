{
 "cells": [
  {
   "cell_type": "code",
   "execution_count": 6,
   "metadata": {},
   "outputs": [],
   "source": [
    "import sharepy\n",
    "import datetime as dt\n",
    "from datetime import date, timedelta\n",
    "import pyodbc as pdb\n",
    "import pandas as pd\n",
    "from pandas import ExcelWriter\n",
    "from pandas import ExcelFile\n",
    "from sqlalchemy import create_engine \n",
    "import urllib\n",
    "import time\n",
    "path = 'C:\\\\Users\\\\farshid.hosseini\\\\Documents\\\\PACCAR\\\\'"
   ]
  },
  {
   "cell_type": "code",
   "execution_count": 2,
   "metadata": {},
   "outputs": [
    {
     "name": "stdout",
     "output_type": "stream",
     "text": [
      "Authentication successful   \n"
     ]
    },
    {
     "data": {
      "text/plain": [
       "<Response [200]>"
      ]
     },
     "execution_count": 2,
     "metadata": {},
     "output_type": "execute_result"
    }
   ],
   "source": [
    "# conect to SharePoint site\n",
    "s = sharepy.connect(\"https://mycomplog.sharepoint.com\",username=\"clipservice@ftcli.com\", password=\"updateMySharepoint\")\n",
    "# download the file to a local folder\n",
    "f = \"https://mycomplog.sharepoint.com/BusinessIntelligence/Kent Broadcast Files/KWRBuildPaper_Today.txt\"\n",
    "s.getfile(f)"
   ]
  },
  {
   "cell_type": "code",
   "execution_count": 7,
   "metadata": {},
   "outputs": [],
   "source": [
    "build =[]\n",
    "for line in open('KWRBuildPaper_Today.txt', 'r'):\n",
    "    item =line.rstrip()\n",
    "    build.append(item)"
   ]
  },
  {
   "cell_type": "code",
   "execution_count": 8,
   "metadata": {},
   "outputs": [],
   "source": [
    "BuildPaper = pd.DataFrame(build, columns = ['String'])"
   ]
  },
  {
   "cell_type": "code",
   "execution_count": 9,
   "metadata": {},
   "outputs": [],
   "source": [
    "#We run the stored procedure to merege data with ADF runing on StremeDF under CLIQ RG\n",
    "# Database connection - urlib\n",
    "from sqlalchemy import create_engine \n",
    "import urllib\n",
    "\n",
    "server = 'cliq.database.windows.net'\n",
    "database = 'CLIQ_PACCAR'\n",
    "username = 'cliq_admin'\n",
    "password = 'gfd#2019'\n",
    "params = urllib.parse.quote_plus(\n",
    "'DRIVER={ODBC Driver 13 for SQL Server};'+ \n",
    "'SERVER='+server+';DATABASE='+database+';UID='+username+';PWD='+ password) \n",
    "engine = create_engine(\"mssql+pyodbc:///?odbc_connect=%s\" % params)\n",
    "\n",
    "# insert data into staging db table\n",
    "\n",
    "BuildPaper.to_sql(name ='KWRBuildPaper_Today',schema ='kent', con=engine, if_exists='replace', index=False)"
   ]
  },
  {
   "cell_type": "code",
   "execution_count": 5,
   "metadata": {},
   "outputs": [],
   "source": [
    "# Step 11) Run data merge SP\n",
    "with engine.begin() as conn:\n",
    "    conn.execute(\"exec [kent].[Update_Broadcast]\")"
   ]
  },
  {
   "cell_type": "code",
   "execution_count": null,
   "metadata": {},
   "outputs": [],
   "source": []
  }
 ],
 "metadata": {
  "kernelspec": {
   "display_name": "Python 3",
   "language": "python",
   "name": "python3"
  },
  "language_info": {
   "codemirror_mode": {
    "name": "ipython",
    "version": 3
   },
   "file_extension": ".py",
   "mimetype": "text/x-python",
   "name": "python",
   "nbconvert_exporter": "python",
   "pygments_lexer": "ipython3",
   "version": "3.7.4"
  }
 },
 "nbformat": 4,
 "nbformat_minor": 2
}
